{
 "cells": [
  {
   "cell_type": "markdown",
   "metadata": {},
   "source": [
    "# Part 2 - SQL Challenge answers"
   ]
  },
  {
   "cell_type": "code",
   "execution_count": null,
   "metadata": {
    "ExecuteTime": {
     "end_time": "2018-10-20T18:49:55.164189Z",
     "start_time": "2018-10-20T18:49:54.605870Z"
    }
   },
   "outputs": [],
   "source": [
    "from sshtunnel import SSHTunnelForwarder\n",
    "\n",
    "AWS_IP_ADDRESS = '52.27.27.155'\n",
    "AWS_USERNAME = 'jason'\n",
    "SSH_KEY_PATH = '/Users/jadams/.ssh/id_rsa'\n",
    "\n",
    "server = SSHTunnelForwarder(\n",
    "    AWS_IP_ADDRESS,\n",
    "    ssh_username=AWS_USERNAME,\n",
    "    ssh_pkey=SSH_KEY_PATH,\n",
    "    remote_bind_address=('localhost', 5432),\n",
    ")\n",
    "\n",
    "server.start()\n",
    "print(server.is_active, server.is_alive, server.local_bind_port)"
   ]
  },
  {
   "cell_type": "markdown",
   "metadata": {},
   "source": [
    "##  Connecting via Python\n",
    "We'll be using a Psycopg2 connector alongside SQLAlchemy to connect to this database.\n",
    "\n",
    "* **SQLAlchemy:** generates SQL statements\n",
    "* **Psycopg2:** sends the SQL statements to the Postgres database\n",
    "\n",
    "    Let's make the connection to the database. Note that the IP address of the Postgres database is 'localhost' and the port is set to whatever the `server` connection above contains. This is because we have used the SSH tunnel to create a connection between the AWS instance and our computer. SSH tunnels enable remote instances to behave as if they are *local*."
   ]
  },
  {
   "cell_type": "code",
   "execution_count": 1,
   "metadata": {
    "ExecuteTime": {
     "end_time": "2018-10-31T21:27:25.115758Z",
     "start_time": "2018-10-31T21:27:24.881185Z"
    }
   },
   "outputs": [],
   "source": [
    "from sqlalchemy import create_engine\n",
    "\n",
    "# Postgres username, password, and database name\n",
    "POSTGRES_IP_ADDRESS = 'localhost' ## This is localhost because SSH tunnel is active\n",
    "POSTGRES_PORT = 5432 ## Running a tunnel in terminal instead of in the notebook\n",
    "POSTGRES_USERNAME = 'jason'     ## CHANGE THIS TO YOUR POSTGRES USERNAME\n",
    "POSTGRES_PASSWORD = 'jason' ## CHANGE THIS TO YOUR POSTGRES PASSWORD\n",
    "POSTGRES_DBNAME = 'baseball'\n",
    "\n",
    "# A long string that contains the necessary Postgres login information\n",
    "postgres_str = ('postgresql://{username}:{password}@{ipaddress}:{port}/{dbname}'\n",
    "                .format(username=POSTGRES_USERNAME, \n",
    "                        password=POSTGRES_PASSWORD,\n",
    "                        ipaddress=POSTGRES_IP_ADDRESS,\n",
    "                        port=POSTGRES_PORT,\n",
    "                        dbname=POSTGRES_DBNAME))\n",
    "\n",
    "# Create the connection\n",
    "cnx = create_engine(postgres_str)"
   ]
  },
  {
   "cell_type": "markdown",
   "metadata": {},
   "source": [
    "### Question 1\n",
    "1. What was the total spent on salaries by each team, each year?"
   ]
  },
  {
   "cell_type": "code",
   "execution_count": 2,
   "metadata": {
    "ExecuteTime": {
     "end_time": "2018-10-31T21:27:30.416801Z",
     "start_time": "2018-10-31T21:27:29.559656Z"
    }
   },
   "outputs": [],
   "source": [
    "import pandas as pd"
   ]
  },
  {
   "cell_type": "code",
   "execution_count": 4,
   "metadata": {
    "ExecuteTime": {
     "end_time": "2018-10-31T21:27:39.400242Z",
     "start_time": "2018-10-31T21:27:39.333580Z"
    },
    "scrolled": false
   },
   "outputs": [
    {
     "data": {
      "text/html": [
       "<div>\n",
       "<style scoped>\n",
       "    .dataframe tbody tr th:only-of-type {\n",
       "        vertical-align: middle;\n",
       "    }\n",
       "\n",
       "    .dataframe tbody tr th {\n",
       "        vertical-align: top;\n",
       "    }\n",
       "\n",
       "    .dataframe thead th {\n",
       "        text-align: right;\n",
       "    }\n",
       "</style>\n",
       "<table border=\"1\" class=\"dataframe\">\n",
       "  <thead>\n",
       "    <tr style=\"text-align: right;\">\n",
       "      <th></th>\n",
       "      <th>yearid</th>\n",
       "      <th>teamid</th>\n",
       "      <th>total_salary</th>\n",
       "    </tr>\n",
       "  </thead>\n",
       "  <tbody>\n",
       "    <tr>\n",
       "      <th>0</th>\n",
       "      <td>1997</td>\n",
       "      <td>ANA</td>\n",
       "      <td>31135472.0</td>\n",
       "    </tr>\n",
       "    <tr>\n",
       "      <th>1</th>\n",
       "      <td>1998</td>\n",
       "      <td>ANA</td>\n",
       "      <td>41281000.0</td>\n",
       "    </tr>\n",
       "    <tr>\n",
       "      <th>2</th>\n",
       "      <td>1999</td>\n",
       "      <td>ANA</td>\n",
       "      <td>55388166.0</td>\n",
       "    </tr>\n",
       "    <tr>\n",
       "      <th>3</th>\n",
       "      <td>2000</td>\n",
       "      <td>ANA</td>\n",
       "      <td>51464167.0</td>\n",
       "    </tr>\n",
       "    <tr>\n",
       "      <th>4</th>\n",
       "      <td>2001</td>\n",
       "      <td>ANA</td>\n",
       "      <td>47535167.0</td>\n",
       "    </tr>\n",
       "  </tbody>\n",
       "</table>\n",
       "</div>"
      ],
      "text/plain": [
       "   yearid teamid  total_salary\n",
       "0    1997    ANA    31135472.0\n",
       "1    1998    ANA    41281000.0\n",
       "2    1999    ANA    55388166.0\n",
       "3    2000    ANA    51464167.0\n",
       "4    2001    ANA    47535167.0"
      ]
     },
     "execution_count": 4,
     "metadata": {},
     "output_type": "execute_result"
    }
   ],
   "source": [
    "pd.read_sql_query('''SELECT yearid, teamid, sum(salary) as total_salary \n",
    "                        FROM salaries \n",
    "                        GROUP BY yearid, teamid\n",
    "                        ORDER by teamid, yearid;''', cnx).head()"
   ]
  },
  {
   "cell_type": "markdown",
   "metadata": {},
   "source": [
    "### Question 2\n",
    "2. What is the first and last year played for each player? *Hint:* Create a new table from 'Fielding.csv'."
   ]
  },
  {
   "cell_type": "markdown",
   "metadata": {},
   "source": [
    "Get the CSV files locally and take a look at the head of Fielding.csv"
   ]
  },
  {
   "cell_type": "code",
   "execution_count": 23,
   "metadata": {
    "ExecuteTime": {
     "end_time": "2018-10-20T20:50:05.824029Z",
     "start_time": "2018-10-20T20:50:04.490422Z"
    }
   },
   "outputs": [
    {
     "name": "stdout",
     "output_type": "stream",
     "text": [
      "--2018-10-20 13:50:04--  http://seanlahman.com/files/database/lahman-csv_2014-02-14.zip\n",
      "Resolving seanlahman.com (seanlahman.com)... 69.163.161.183\n",
      "Connecting to seanlahman.com (seanlahman.com)|69.163.161.183|:80... connected.\n",
      "HTTP request sent, awaiting response... 301 Moved Permanently\n",
      "Location: http://www.seanlahman.com/files/database/lahman-csv_2014-02-14.zip [following]\n",
      "--2018-10-20 13:50:04--  http://www.seanlahman.com/files/database/lahman-csv_2014-02-14.zip\n",
      "Resolving www.seanlahman.com (www.seanlahman.com)... 69.163.161.183\n",
      "Reusing existing connection to seanlahman.com:80.\n",
      "HTTP request sent, awaiting response... 200 OK\n",
      "Length: 8640782 (8.2M) [application/zip]\n",
      "Saving to: ‘baseball/lahman-csv_2014-02-14.zip’\n",
      "\n",
      "lahman-csv_2014-02- 100%[===================>]   8.24M  7.45MB/s    in 1.1s    \n",
      "\n",
      "2018-10-20 13:50:05 (7.45 MB/s) - ‘baseball/lahman-csv_2014-02-14.zip’ saved [8640782/8640782]\n",
      "\n"
     ]
    }
   ],
   "source": [
    "! wget http://seanlahman.com/files/database/lahman-csv_2014-02-14.zip -P 'baseball/'\n"
   ]
  },
  {
   "cell_type": "code",
   "execution_count": 25,
   "metadata": {
    "ExecuteTime": {
     "end_time": "2018-10-20T20:51:35.975744Z",
     "start_time": "2018-10-20T20:51:35.476055Z"
    }
   },
   "outputs": [
    {
     "name": "stdout",
     "output_type": "stream",
     "text": [
      "Archive:  baseball/lahman-csv_2014-02-14.zip\n",
      "  inflating: baseball/SchoolsPlayers.csv  \n",
      "  inflating: baseball/SeriesPost.csv  \n",
      "  inflating: baseball/Teams.csv      \n",
      "  inflating: baseball/TeamsFranchises.csv  \n",
      "  inflating: baseball/TeamsHalf.csv  \n",
      "  inflating: baseball/AllstarFull.csv  \n",
      "  inflating: baseball/Appearances.csv  \n",
      "  inflating: baseball/AwardsManagers.csv  \n",
      "  inflating: baseball/AwardsPlayers.csv  \n",
      "  inflating: baseball/AwardsShareManagers.csv  \n",
      "  inflating: baseball/AwardsSharePlayers.csv  \n",
      "  inflating: baseball/Batting.csv    \n",
      "  inflating: baseball/BattingPost.csv  \n",
      "  inflating: baseball/Fielding.csv   \n",
      "  inflating: baseball/FieldingOF.csv  \n",
      "  inflating: baseball/FieldingPost.csv  \n",
      "  inflating: baseball/HallOfFame.csv  \n",
      "  inflating: baseball/Managers.csv   \n",
      "  inflating: baseball/ManagersHalf.csv  \n",
      "  inflating: baseball/Master.csv     \n",
      "  inflating: baseball/Pitching.csv   \n",
      "  inflating: baseball/PitchingPost.csv  \n",
      "  inflating: baseball/readme2013.txt  \n",
      "  inflating: baseball/Salaries.csv   \n",
      "  inflating: baseball/Schools.csv    \n"
     ]
    }
   ],
   "source": [
    "! unzip baseball/lahman-csv_2014-02-14.zip -d 'baseball/'"
   ]
  },
  {
   "cell_type": "code",
   "execution_count": 26,
   "metadata": {
    "ExecuteTime": {
     "end_time": "2018-10-20T20:51:52.424598Z",
     "start_time": "2018-10-20T20:51:52.291532Z"
    }
   },
   "outputs": [
    {
     "name": "stdout",
     "output_type": "stream",
     "text": [
      "playerID,yearID,stint,teamID,lgID,POS,G,GS,InnOuts,PO,A,E,DP,PB,WP,SB,CS,ZR\r",
      "\r\n",
      "ansonca01,1871,1,RC1,NA,1B,1,,,7,0,0,0,,,,,\r",
      "\r\n",
      "biermch01,1871,1,FW1,NA,1B,1,,,9,0,2,0,,,,,\r",
      "\r\n",
      "carleji01,1871,1,CL1,NA,1B,29,,,295,4,34,10,,,,,\r",
      "\r\n",
      "connone01,1871,1,TRO,NA,1B,4,,,35,1,5,1,,,,,\r",
      "\r\n",
      "cravebi01,1871,1,TRO,NA,1B,2,,,18,1,1,1,,,,,\r",
      "\r\n",
      "fishech01,1871,1,RC1,NA,1B,2,,,12,0,1,0,,,,,\r",
      "\r\n",
      "fislewe01,1871,1,PH1,NA,1B,26,,,240,1,7,9,,,,,\r",
      "\r\n",
      "flynncl01,1871,1,TRO,NA,1B,19,,,183,8,9,12,,,,,\r",
      "\r\n",
      "foranji01,1871,1,FW1,NA,1B,16,,,111,4,16,2,,,,,\r",
      "\r\n",
      "cat: stdout: Broken pipe\r\n"
     ]
    }
   ],
   "source": [
    "! cat baseball/Fielding.csv | head"
   ]
  },
  {
   "cell_type": "code",
   "execution_count": 7,
   "metadata": {
    "ExecuteTime": {
     "end_time": "2018-10-31T21:31:20.032906Z",
     "start_time": "2018-10-31T21:31:20.028907Z"
    }
   },
   "outputs": [],
   "source": [
    "def build_sql_table(table_name):\n",
    "    df = pd.read_csv(f'baseball/{table_name}.csv')\n",
    "    df.columns = df.columns.str.lower()\n",
    "\n",
    "    df[:0].to_sql(table_name.lower(), cnx, index=False, if_exists='replace')"
   ]
  },
  {
   "cell_type": "code",
   "execution_count": 8,
   "metadata": {
    "ExecuteTime": {
     "end_time": "2018-10-31T21:31:32.305345Z",
     "start_time": "2018-10-31T21:31:31.565035Z"
    }
   },
   "outputs": [],
   "source": [
    "build_sql_table('Fielding')"
   ]
  },
  {
   "cell_type": "code",
   "execution_count": 9,
   "metadata": {
    "ExecuteTime": {
     "end_time": "2018-10-31T21:31:35.247947Z",
     "start_time": "2018-10-31T21:31:34.578912Z"
    }
   },
   "outputs": [
    {
     "name": "stdout",
     "output_type": "stream",
     "text": [
      "COPY 166991\r\n"
     ]
    }
   ],
   "source": [
    "! psql -d baseball -h localhost -U jason -c \"COPY fielding FROM '/home/jason/baseballdata/Fielding.csv' DELIMITER ',' CSV HEADER;\""
   ]
  },
  {
   "cell_type": "code",
   "execution_count": 10,
   "metadata": {
    "ExecuteTime": {
     "end_time": "2018-10-31T21:31:46.426304Z",
     "start_time": "2018-10-31T21:31:46.130368Z"
    }
   },
   "outputs": [
    {
     "data": {
      "text/html": [
       "<div>\n",
       "<style scoped>\n",
       "    .dataframe tbody tr th:only-of-type {\n",
       "        vertical-align: middle;\n",
       "    }\n",
       "\n",
       "    .dataframe tbody tr th {\n",
       "        vertical-align: top;\n",
       "    }\n",
       "\n",
       "    .dataframe thead th {\n",
       "        text-align: right;\n",
       "    }\n",
       "</style>\n",
       "<table border=\"1\" class=\"dataframe\">\n",
       "  <thead>\n",
       "    <tr style=\"text-align: right;\">\n",
       "      <th></th>\n",
       "      <th>playerid</th>\n",
       "      <th>first_year</th>\n",
       "      <th>last_year</th>\n",
       "    </tr>\n",
       "  </thead>\n",
       "  <tbody>\n",
       "    <tr>\n",
       "      <th>0</th>\n",
       "      <td>gagnied01</td>\n",
       "      <td>1914</td>\n",
       "      <td>1915</td>\n",
       "    </tr>\n",
       "    <tr>\n",
       "      <th>1</th>\n",
       "      <td>ramospe01</td>\n",
       "      <td>1955</td>\n",
       "      <td>1970</td>\n",
       "    </tr>\n",
       "    <tr>\n",
       "      <th>2</th>\n",
       "      <td>putkolu01</td>\n",
       "      <td>2012</td>\n",
       "      <td>2013</td>\n",
       "    </tr>\n",
       "    <tr>\n",
       "      <th>3</th>\n",
       "      <td>boyerke01</td>\n",
       "      <td>1955</td>\n",
       "      <td>1969</td>\n",
       "    </tr>\n",
       "    <tr>\n",
       "      <th>4</th>\n",
       "      <td>dillibo01</td>\n",
       "      <td>1946</td>\n",
       "      <td>1951</td>\n",
       "    </tr>\n",
       "  </tbody>\n",
       "</table>\n",
       "</div>"
      ],
      "text/plain": [
       "    playerid  first_year  last_year\n",
       "0  gagnied01        1914       1915\n",
       "1  ramospe01        1955       1970\n",
       "2  putkolu01        2012       2013\n",
       "3  boyerke01        1955       1969\n",
       "4  dillibo01        1946       1951"
      ]
     },
     "execution_count": 10,
     "metadata": {},
     "output_type": "execute_result"
    }
   ],
   "source": [
    "pd.read_sql(''' SELECT playerid, MIN(yearid) as first_year, MAX(yearid) as last_year\n",
    "                FROM fielding\n",
    "                GROUP BY playerid;\n",
    "            ''', cnx).head()"
   ]
  },
  {
   "cell_type": "markdown",
   "metadata": {},
   "source": [
    "### Question 3\n",
    "3. Who has played the most all star games?"
   ]
  },
  {
   "cell_type": "code",
   "execution_count": 27,
   "metadata": {
    "ExecuteTime": {
     "end_time": "2018-10-22T00:18:37.137245Z",
     "start_time": "2018-10-22T00:18:36.765995Z"
    }
   },
   "outputs": [
    {
     "name": "stdout",
     "output_type": "stream",
     "text": [
      "          List of relations\r\n",
      " Schema |    Name     | Type  | Owner \r\n",
      "--------+-------------+-------+-------\r\n",
      " public | allstarfull | table | jason\r\n",
      " public | fielding    | table | jason\r\n",
      " public | franchises  | table | jason\r\n",
      " public | salaries    | table | jason\r\n",
      " public | schools     | table | jason\r\n",
      "(5 rows)\r\n",
      "\r\n"
     ]
    }
   ],
   "source": [
    "!psql -h localhost -U jason -d baseball -c \"\\d\""
   ]
  },
  {
   "cell_type": "code",
   "execution_count": 32,
   "metadata": {
    "ExecuteTime": {
     "end_time": "2018-10-22T00:21:15.640312Z",
     "start_time": "2018-10-22T00:21:15.493232Z"
    }
   },
   "outputs": [
    {
     "data": {
      "text/html": [
       "<div>\n",
       "<style scoped>\n",
       "    .dataframe tbody tr th:only-of-type {\n",
       "        vertical-align: middle;\n",
       "    }\n",
       "\n",
       "    .dataframe tbody tr th {\n",
       "        vertical-align: top;\n",
       "    }\n",
       "\n",
       "    .dataframe thead th {\n",
       "        text-align: right;\n",
       "    }\n",
       "</style>\n",
       "<table border=\"1\" class=\"dataframe\">\n",
       "  <thead>\n",
       "    <tr style=\"text-align: right;\">\n",
       "      <th></th>\n",
       "      <th>playerid</th>\n",
       "      <th>all_star_game_count</th>\n",
       "    </tr>\n",
       "  </thead>\n",
       "  <tbody>\n",
       "    <tr>\n",
       "      <th>0</th>\n",
       "      <td>aaronha01</td>\n",
       "      <td>25</td>\n",
       "    </tr>\n",
       "  </tbody>\n",
       "</table>\n",
       "</div>"
      ],
      "text/plain": [
       "    playerid  all_star_game_count\n",
       "0  aaronha01                   25"
      ]
     },
     "execution_count": 32,
     "metadata": {},
     "output_type": "execute_result"
    }
   ],
   "source": [
    "pd.read_sql(''' SELECT playerid, count(1) as all_star_game_count \n",
    "                FROM allstarfull \n",
    "                GROUP BY playerid\n",
    "                ORDER BY all_star_game_count DESC\n",
    "                LIMIT 1;''', cnx)"
   ]
  },
  {
   "cell_type": "markdown",
   "metadata": {},
   "source": [
    "### Question 4\n",
    "4. Which school has generated the most distinct players? *Hint:* Create new table from 'CollegePlaying.csv'."
   ]
  },
  {
   "cell_type": "code",
   "execution_count": 27,
   "metadata": {
    "ExecuteTime": {
     "end_time": "2018-10-31T21:39:32.579379Z",
     "start_time": "2018-10-31T21:39:32.255922Z"
    }
   },
   "outputs": [],
   "source": [
    "build_sql_table('SchoolsPlayers')\n",
    "\n",
    "! psql -d baseball -h localhost -U jason -c \"COPY schoolsplayers FROM '/home/jason/baseballdata/SchoolsPlayers.csv' DELIMITER ',' CSV HEADER;\""
   ]
  },
  {
   "cell_type": "code",
   "execution_count": 20,
   "metadata": {
    "ExecuteTime": {
     "end_time": "2018-10-31T21:36:04.423732Z",
     "start_time": "2018-10-31T21:36:04.345811Z"
    }
   },
   "outputs": [
    {
     "data": {
      "text/html": [
       "<div>\n",
       "<style scoped>\n",
       "    .dataframe tbody tr th:only-of-type {\n",
       "        vertical-align: middle;\n",
       "    }\n",
       "\n",
       "    .dataframe tbody tr th {\n",
       "        vertical-align: top;\n",
       "    }\n",
       "\n",
       "    .dataframe thead th {\n",
       "        text-align: right;\n",
       "    }\n",
       "</style>\n",
       "<table border=\"1\" class=\"dataframe\">\n",
       "  <thead>\n",
       "    <tr style=\"text-align: right;\">\n",
       "      <th></th>\n",
       "      <th>schoolid</th>\n",
       "      <th>num_players</th>\n",
       "    </tr>\n",
       "  </thead>\n",
       "  <tbody>\n",
       "    <tr>\n",
       "      <th>0</th>\n",
       "      <td>usc</td>\n",
       "      <td>102</td>\n",
       "    </tr>\n",
       "  </tbody>\n",
       "</table>\n",
       "</div>"
      ],
      "text/plain": [
       "  schoolid  num_players\n",
       "0      usc          102"
      ]
     },
     "execution_count": 20,
     "metadata": {},
     "output_type": "execute_result"
    }
   ],
   "source": [
    "pd.read_sql(\"\"\"\n",
    "            SELECT  schoolid\n",
    "                    , count(1) as num_players \n",
    "            FROM schoolsplayers\n",
    "            GROUP BY schoolid\n",
    "            ORDER BY num_players DESC\n",
    "            LIMIT 1;\n",
    "            \"\"\",\n",
    "           cnx).head()"
   ]
  },
  {
   "cell_type": "markdown",
   "metadata": {},
   "source": [
    "### Question 5\n",
    "\n",
    "5. Which players have the longest career? Assume that the `debut` and `finalGame` columns comprise the start and end, respectively, of a player's career. *Hint:* Create a new table from 'Master.csv'. Also note that strings can be converted to dates using the [`DATE`](https://wiki.postgresql.org/wiki/Working_with_Dates_and_Times_in_PostgreSQL#WORKING_with_DATETIME.2C_DATE.2C_and_INTERVAL_VALUES) function and can then be subtracted from each other yielding their difference in days."
   ]
  },
  {
   "cell_type": "code",
   "execution_count": 26,
   "metadata": {
    "ExecuteTime": {
     "end_time": "2018-10-31T21:39:26.338976Z",
     "start_time": "2018-10-31T21:39:25.232250Z"
    }
   },
   "outputs": [
    {
     "name": "stdout",
     "output_type": "stream",
     "text": [
      "COPY 18354\r\n"
     ]
    }
   ],
   "source": [
    "build_sql_table('Master')\n",
    "\n",
    "! psql -d baseball -h localhost -U jason -c \"COPY master FROM '/home/jason/baseballdata/Master.csv' DELIMITER ',' CSV HEADER;\""
   ]
  },
  {
   "cell_type": "code",
   "execution_count": 42,
   "metadata": {
    "ExecuteTime": {
     "end_time": "2018-10-31T21:47:00.449721Z",
     "start_time": "2018-10-31T21:47:00.286806Z"
    }
   },
   "outputs": [
    {
     "data": {
      "text/html": [
       "<div>\n",
       "<style scoped>\n",
       "    .dataframe tbody tr th:only-of-type {\n",
       "        vertical-align: middle;\n",
       "    }\n",
       "\n",
       "    .dataframe tbody tr th {\n",
       "        vertical-align: top;\n",
       "    }\n",
       "\n",
       "    .dataframe thead th {\n",
       "        text-align: right;\n",
       "    }\n",
       "</style>\n",
       "<table border=\"1\" class=\"dataframe\">\n",
       "  <thead>\n",
       "    <tr style=\"text-align: right;\">\n",
       "      <th></th>\n",
       "      <th>namegiven</th>\n",
       "      <th>namelast</th>\n",
       "      <th>career_length</th>\n",
       "      <th>debut</th>\n",
       "      <th>finalgame</th>\n",
       "    </tr>\n",
       "  </thead>\n",
       "  <tbody>\n",
       "    <tr>\n",
       "      <th>0</th>\n",
       "      <td>Nicholas</td>\n",
       "      <td>Altrock</td>\n",
       "      <td>12862</td>\n",
       "      <td>1898-07-14</td>\n",
       "      <td>1933-10-01</td>\n",
       "    </tr>\n",
       "    <tr>\n",
       "      <th>1</th>\n",
       "      <td>James Henry</td>\n",
       "      <td>O'Rourke</td>\n",
       "      <td>11836</td>\n",
       "      <td>1872-04-26</td>\n",
       "      <td>1904-09-22</td>\n",
       "    </tr>\n",
       "    <tr>\n",
       "      <th>2</th>\n",
       "      <td>Saturnino Orestes Armas</td>\n",
       "      <td>Minoso</td>\n",
       "      <td>11492</td>\n",
       "      <td>1949-04-19</td>\n",
       "      <td>1980-10-05</td>\n",
       "    </tr>\n",
       "    <tr>\n",
       "      <th>3</th>\n",
       "      <td>Charles Timothy</td>\n",
       "      <td>O'Leary</td>\n",
       "      <td>11126</td>\n",
       "      <td>1904-04-14</td>\n",
       "      <td>1934-09-30</td>\n",
       "    </tr>\n",
       "    <tr>\n",
       "      <th>4</th>\n",
       "      <td>Walter Arlington</td>\n",
       "      <td>Latham</td>\n",
       "      <td>10678</td>\n",
       "      <td>1880-07-05</td>\n",
       "      <td>1909-09-30</td>\n",
       "    </tr>\n",
       "  </tbody>\n",
       "</table>\n",
       "</div>"
      ],
      "text/plain": [
       "                 namegiven  namelast  career_length       debut   finalgame\n",
       "0                 Nicholas   Altrock          12862  1898-07-14  1933-10-01\n",
       "1              James Henry  O'Rourke          11836  1872-04-26  1904-09-22\n",
       "2  Saturnino Orestes Armas    Minoso          11492  1949-04-19  1980-10-05\n",
       "3          Charles Timothy   O'Leary          11126  1904-04-14  1934-09-30\n",
       "4         Walter Arlington    Latham          10678  1880-07-05  1909-09-30"
      ]
     },
     "execution_count": 42,
     "metadata": {},
     "output_type": "execute_result"
    }
   ],
   "source": [
    "pd.read_sql(\"\"\"\n",
    "            SELECT  namegiven, \n",
    "                    namelast, \n",
    "                    DATE(finalgame) - DATE(debut) AS career_length, \n",
    "                    debut, \n",
    "                    finalgame \n",
    "            FROM master\n",
    "            WHERE debut <> 'None'\n",
    "            OR    finalgame <> 'None'\n",
    "            ORDER BY career_length DESC\n",
    "            LIMIT 5;\n",
    "            \"\"\"\n",
    "           , cnx).head()"
   ]
  },
  {
   "cell_type": "markdown",
   "metadata": {},
   "source": [
    "### Question 6\n",
    "\n",
    "6. What is the distribution of debut months? *Hint:* Look at the `DATE` and [`EXTRACT`](https://www.postgresql.org/docs/current/static/functions-datetime.html#FUNCTIONS-DATETIME-EXTRACT) functions."
   ]
  },
  {
   "cell_type": "code",
   "execution_count": 53,
   "metadata": {
    "ExecuteTime": {
     "end_time": "2018-10-31T21:51:49.422079Z",
     "start_time": "2018-10-31T21:51:49.337105Z"
    }
   },
   "outputs": [
    {
     "data": {
      "text/html": [
       "<div>\n",
       "<style scoped>\n",
       "    .dataframe tbody tr th:only-of-type {\n",
       "        vertical-align: middle;\n",
       "    }\n",
       "\n",
       "    .dataframe tbody tr th {\n",
       "        vertical-align: top;\n",
       "    }\n",
       "\n",
       "    .dataframe thead th {\n",
       "        text-align: right;\n",
       "    }\n",
       "</style>\n",
       "<table border=\"1\" class=\"dataframe\">\n",
       "  <thead>\n",
       "    <tr style=\"text-align: right;\">\n",
       "      <th></th>\n",
       "      <th>debut_month</th>\n",
       "      <th>players_debut</th>\n",
       "    </tr>\n",
       "  </thead>\n",
       "  <tbody>\n",
       "    <tr>\n",
       "      <th>0</th>\n",
       "      <td>3.0</td>\n",
       "      <td>41</td>\n",
       "    </tr>\n",
       "    <tr>\n",
       "      <th>1</th>\n",
       "      <td>4.0</td>\n",
       "      <td>4711</td>\n",
       "    </tr>\n",
       "    <tr>\n",
       "      <th>2</th>\n",
       "      <td>5.0</td>\n",
       "      <td>2230</td>\n",
       "    </tr>\n",
       "    <tr>\n",
       "      <th>3</th>\n",
       "      <td>6.0</td>\n",
       "      <td>1893</td>\n",
       "    </tr>\n",
       "    <tr>\n",
       "      <th>4</th>\n",
       "      <td>7.0</td>\n",
       "      <td>1978</td>\n",
       "    </tr>\n",
       "    <tr>\n",
       "      <th>5</th>\n",
       "      <td>8.0</td>\n",
       "      <td>1943</td>\n",
       "    </tr>\n",
       "    <tr>\n",
       "      <th>6</th>\n",
       "      <td>9.0</td>\n",
       "      <td>5061</td>\n",
       "    </tr>\n",
       "    <tr>\n",
       "      <th>7</th>\n",
       "      <td>10.0</td>\n",
       "      <td>308</td>\n",
       "    </tr>\n",
       "  </tbody>\n",
       "</table>\n",
       "</div>"
      ],
      "text/plain": [
       "   debut_month  players_debut\n",
       "0          3.0             41\n",
       "1          4.0           4711\n",
       "2          5.0           2230\n",
       "3          6.0           1893\n",
       "4          7.0           1978\n",
       "5          8.0           1943\n",
       "6          9.0           5061\n",
       "7         10.0            308"
      ]
     },
     "execution_count": 53,
     "metadata": {},
     "output_type": "execute_result"
    }
   ],
   "source": [
    "pd.read_sql(\"\"\"\n",
    "            SELECT  EXTRACT(MONTH FROM DATE(debut)) AS debut_month,\n",
    "                    COUNT(1) as players_debut\n",
    "            FROM master\n",
    "            WHERE debut <> 'None'\n",
    "            GROUP BY debut_month\n",
    "            ORDER BY debut_month;\n",
    "            \"\"\"\n",
    "           , cnx)"
   ]
  },
  {
   "cell_type": "markdown",
   "metadata": {},
   "source": [
    "### Question 7\n",
    "\n",
    "7. What is the effect of table join order on mean salary for the players listed in the main (master) table? *Hint:* Perform two different queries, one that joins on playerID in the salary table and other that joins on the same column in the master table. You will have to use left joins for each since right joins are not currently supported with SQLalchemy."
   ]
  },
  {
   "cell_type": "code",
   "execution_count": 56,
   "metadata": {
    "ExecuteTime": {
     "end_time": "2018-10-31T22:09:06.983593Z",
     "start_time": "2018-10-31T22:09:06.206917Z"
    }
   },
   "outputs": [
    {
     "name": "stdout",
     "output_type": "stream",
     "text": [
      "COPY 23956\r\n"
     ]
    }
   ],
   "source": [
    "build_sql_table('Salaries')\n",
    "\n",
    "! psql -d baseball -h localhost -U jason -c \"COPY salaries FROM '/home/jason/baseballdata/Salaries.csv' DELIMITER ',' CSV HEADER;\""
   ]
  },
  {
   "cell_type": "code",
   "execution_count": 70,
   "metadata": {
    "ExecuteTime": {
     "end_time": "2018-10-31T22:16:02.037372Z",
     "start_time": "2018-10-31T22:16:01.924682Z"
    }
   },
   "outputs": [
    {
     "data": {
      "text/html": [
       "<div>\n",
       "<style scoped>\n",
       "    .dataframe tbody tr th:only-of-type {\n",
       "        vertical-align: middle;\n",
       "    }\n",
       "\n",
       "    .dataframe tbody tr th {\n",
       "        vertical-align: top;\n",
       "    }\n",
       "\n",
       "    .dataframe thead th {\n",
       "        text-align: right;\n",
       "    }\n",
       "</style>\n",
       "<table border=\"1\" class=\"dataframe\">\n",
       "  <thead>\n",
       "    <tr style=\"text-align: right;\">\n",
       "      <th></th>\n",
       "      <th>avg</th>\n",
       "    </tr>\n",
       "  </thead>\n",
       "  <tbody>\n",
       "    <tr>\n",
       "      <th>0</th>\n",
       "      <td>1.864357e+06</td>\n",
       "    </tr>\n",
       "  </tbody>\n",
       "</table>\n",
       "</div>"
      ],
      "text/plain": [
       "            avg\n",
       "0  1.864357e+06"
      ]
     },
     "execution_count": 70,
     "metadata": {},
     "output_type": "execute_result"
    }
   ],
   "source": [
    "pd.read_sql(\"\"\"\n",
    "            SELECT AVG(salary)\n",
    "            FROM salaries as s\n",
    "            LEFT JOIN master as m\n",
    "                ON m.playerid = s.playerid;\n",
    "            \"\"\"\n",
    "           , cnx)"
   ]
  },
  {
   "cell_type": "code",
   "execution_count": 60,
   "metadata": {
    "ExecuteTime": {
     "end_time": "2018-10-31T22:12:57.366101Z",
     "start_time": "2018-10-31T22:12:57.113529Z"
    }
   },
   "outputs": [
    {
     "data": {
      "text/html": [
       "<div>\n",
       "<style scoped>\n",
       "    .dataframe tbody tr th:only-of-type {\n",
       "        vertical-align: middle;\n",
       "    }\n",
       "\n",
       "    .dataframe tbody tr th {\n",
       "        vertical-align: top;\n",
       "    }\n",
       "\n",
       "    .dataframe thead th {\n",
       "        text-align: right;\n",
       "    }\n",
       "</style>\n",
       "<table border=\"1\" class=\"dataframe\">\n",
       "  <thead>\n",
       "    <tr style=\"text-align: right;\">\n",
       "      <th></th>\n",
       "      <th>avg</th>\n",
       "    </tr>\n",
       "  </thead>\n",
       "  <tbody>\n",
       "    <tr>\n",
       "      <th>0</th>\n",
       "      <td>1.864357e+06</td>\n",
       "    </tr>\n",
       "  </tbody>\n",
       "</table>\n",
       "</div>"
      ],
      "text/plain": [
       "            avg\n",
       "0  1.864357e+06"
      ]
     },
     "execution_count": 60,
     "metadata": {},
     "output_type": "execute_result"
    }
   ],
   "source": [
    "pd.read_sql(\"\"\"\n",
    "            SELECT  AVG(s.salary)\n",
    "            FROM master as m\n",
    "            LEFT JOIN salaries as s \n",
    "                ON m.playerid = s.playerid;\n",
    "            \"\"\"\n",
    "           , cnx)"
   ]
  },
  {
   "cell_type": "code",
   "execution_count": 72,
   "metadata": {
    "ExecuteTime": {
     "end_time": "2018-10-31T22:21:15.468401Z",
     "start_time": "2018-10-31T22:21:15.377826Z"
    }
   },
   "outputs": [
    {
     "data": {
      "text/html": [
       "<div>\n",
       "<style scoped>\n",
       "    .dataframe tbody tr th:only-of-type {\n",
       "        vertical-align: middle;\n",
       "    }\n",
       "\n",
       "    .dataframe tbody tr th {\n",
       "        vertical-align: top;\n",
       "    }\n",
       "\n",
       "    .dataframe thead th {\n",
       "        text-align: right;\n",
       "    }\n",
       "</style>\n",
       "<table border=\"1\" class=\"dataframe\">\n",
       "  <thead>\n",
       "    <tr style=\"text-align: right;\">\n",
       "      <th></th>\n",
       "      <th>avg</th>\n",
       "    </tr>\n",
       "  </thead>\n",
       "  <tbody>\n",
       "    <tr>\n",
       "      <th>0</th>\n",
       "      <td>1.864357e+06</td>\n",
       "    </tr>\n",
       "  </tbody>\n",
       "</table>\n",
       "</div>"
      ],
      "text/plain": [
       "            avg\n",
       "0  1.864357e+06"
      ]
     },
     "execution_count": 72,
     "metadata": {},
     "output_type": "execute_result"
    }
   ],
   "source": [
    "pd.read_sql(\"\"\"\n",
    "            SELECT  AVG(s.salary)\n",
    "            FROM master as m\n",
    "            INNER JOIN salaries as s \n",
    "                ON m.playerid = s.playerid;\n",
    "            \"\"\"\n",
    "           , cnx)"
   ]
  },
  {
   "cell_type": "markdown",
   "metadata": {},
   "source": [
    "The avegage salary when performing a `LEFT JOIN` from `master` to `salaries` is the same as performing a `LEFT JOIN` from `salaries` to `master`. This means the same playerids exist in both tables."
   ]
  }
 ],
 "metadata": {
  "kernelspec": {
   "display_name": "Python 3",
   "language": "python",
   "name": "python3"
  },
  "language_info": {
   "codemirror_mode": {
    "name": "ipython",
    "version": 3
   },
   "file_extension": ".py",
   "mimetype": "text/x-python",
   "name": "python",
   "nbconvert_exporter": "python",
   "pygments_lexer": "ipython3",
   "version": "3.6.5"
  }
 },
 "nbformat": 4,
 "nbformat_minor": 1
}
