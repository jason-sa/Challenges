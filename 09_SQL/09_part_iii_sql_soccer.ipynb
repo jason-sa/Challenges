{
 "cells": [
  {
   "cell_type": "markdown",
   "metadata": {},
   "source": [
    "### Setup\n",
    "Please complete this exercise using sqlite3 and Jupyter notebook.\n",
    "\n",
    "Download the [SQLite database](https://www.kaggle.com/hugomathien/soccer/downloads/soccer.zip) and load in your notebook using the sqlite3 library. "
   ]
  },
  {
   "cell_type": "code",
   "execution_count": 2,
   "metadata": {
    "ExecuteTime": {
     "end_time": "2018-10-31T22:22:48.471743Z",
     "start_time": "2018-10-31T22:22:48.339198Z"
    }
   },
   "outputs": [
    {
     "name": "stdout",
     "output_type": "stream",
     "text": [
      "total 128\r\n",
      "drwxr-xr-x  11 jadams  staff    352 Oct 31 15:22 \u001b[34m.\u001b[m\u001b[m\r\n",
      "drwxr-xr-x  12 jadams  staff    384 Oct 20 13:45 \u001b[34m..\u001b[m\u001b[m\r\n",
      "drwxr-xr-x   4 jadams  staff    128 Oct 31 15:22 \u001b[34m.ipynb_checkpoints\u001b[m\u001b[m\r\n",
      "-rw-r--r--@  1 jadams  staff     32 Oct 24 10:28 02_SQL_answers.sql\r\n",
      "-rw-r--r--   1 jadams  staff   2476 Oct 20 11:32 09_part_i_sql_w3school.md\r\n",
      "-rw-r--r--   1 jadams  staff  34163 Oct 31 15:21 09_part_ii_baseball.ipynb\r\n",
      "-rw-r--r--   1 jadams  staff   1625 Oct 22 12:55 09_part_ii_sql_baseball.md\r\n",
      "-rw-r--r--   1 jadams  staff   1135 Oct 20 11:20 09_part_iii_sql_soccer.md\r\n",
      "-rw-r--r--   1 jadams  staff   5915 Oct 20 11:20 09_part_iv_sql_tennis.md\r\n",
      "-rw-r--r--   1 jadams  staff     72 Oct 31 15:22 Untitled.ipynb\r\n",
      "drwxr-xr-x  28 jadams  staff    896 Oct 20 13:51 \u001b[34mbaseball\u001b[m\u001b[m\r\n"
     ]
    }
   ],
   "source": [
    "! ls -al"
   ]
  },
  {
   "cell_type": "code",
   "execution_count": 3,
   "metadata": {
    "ExecuteTime": {
     "end_time": "2018-10-31T22:23:04.675958Z",
     "start_time": "2018-10-31T22:23:04.547685Z"
    }
   },
   "outputs": [],
   "source": [
    "! mkdir soccer"
   ]
  },
  {
   "cell_type": "code",
   "execution_count": 8,
   "metadata": {
    "ExecuteTime": {
     "end_time": "2018-10-31T22:24:15.749506Z",
     "start_time": "2018-10-31T22:24:14.091756Z"
    }
   },
   "outputs": [
    {
     "name": "stdout",
     "output_type": "stream",
     "text": [
      "--2018-10-31 15:24:14--  https://www.kaggle.com/hugomathien/soccer/downloads/soccer.zip\n",
      "Resolving www.kaggle.com (www.kaggle.com)... 23.96.207.25\n",
      "Connecting to www.kaggle.com (www.kaggle.com)|23.96.207.25|:443... connected.\n",
      "HTTP request sent, awaiting response... 302 Found\n",
      "Location: /account/login?returnUrl=%2Fhugomathien%2Fsoccer%2Fdata [following]\n",
      "--2018-10-31 15:24:15--  https://www.kaggle.com/account/login?returnUrl=%2Fhugomathien%2Fsoccer%2Fdata\n",
      "Reusing existing connection to www.kaggle.com:443.\n",
      "HTTP request sent, awaiting response... 200 OK\n",
      "Length: 6849 (6.7K) [text/html]\n",
      "Saving to: ‘soccer/soccer.zip’\n",
      "\n",
      "soccer.zip          100%[===================>]   6.69K  --.-KB/s    in 0s      \n",
      "\n",
      "2018-10-31 15:24:15 (37.1 MB/s) - ‘soccer/soccer.zip’ saved [6849/6849]\n",
      "\n"
     ]
    }
   ],
   "source": [
    "!wget https://www.kaggle.com/hugomathien/soccer/downloads/soccer.zip -P 'soccer/'"
   ]
  },
  {
   "cell_type": "code",
   "execution_count": 15,
   "metadata": {
    "ExecuteTime": {
     "end_time": "2018-10-31T22:38:14.589295Z",
     "start_time": "2018-10-31T22:38:12.554875Z"
    }
   },
   "outputs": [
    {
     "name": "stdout",
     "output_type": "stream",
     "text": [
      "Archive:  soccer/soccer.zip\n",
      "  inflating: soccer/database.sqlite  \n"
     ]
    }
   ],
   "source": [
    "! unzip soccer/soccer.zip -d 'soccer/'\n",
    "# ! unzip baseball/lahman-csv_2014-02-14.zip -d 'baseball/'"
   ]
  },
  {
   "cell_type": "code",
   "execution_count": 1,
   "metadata": {
    "ExecuteTime": {
     "end_time": "2018-11-01T15:03:09.034937Z",
     "start_time": "2018-11-01T15:03:08.174417Z"
    }
   },
   "outputs": [],
   "source": [
    "from sqlalchemy import create_engine, inspect\n",
    "import pandas as pd\n",
    "\n",
    "engine = create_engine('sqlite:///soccer/database.sqlite')"
   ]
  },
  {
   "cell_type": "markdown",
   "metadata": {},
   "source": [
    "### Question 1\n",
    "\n",
    "1. Which team scored the most points when playing at home?  "
   ]
  },
  {
   "cell_type": "code",
   "execution_count": 2,
   "metadata": {
    "ExecuteTime": {
     "end_time": "2018-11-01T15:03:09.048611Z",
     "start_time": "2018-11-01T15:03:09.037999Z"
    }
   },
   "outputs": [
    {
     "name": "stdout",
     "output_type": "stream",
     "text": [
      "Country\n",
      "League\n",
      "Match\n",
      "Player\n",
      "Player_Attributes\n",
      "Team\n",
      "Team_Attributes\n",
      "sqlite_sequence\n"
     ]
    }
   ],
   "source": [
    "inspector = inspect(engine)\n",
    "for table_name in inspector.get_table_names():\n",
    "    print(table_name)"
   ]
  },
  {
   "cell_type": "code",
   "execution_count": 3,
   "metadata": {
    "ExecuteTime": {
     "end_time": "2018-11-01T15:03:12.650997Z",
     "start_time": "2018-11-01T15:03:09.052381Z"
    }
   },
   "outputs": [
    {
     "data": {
      "text/html": [
       "<div>\n",
       "<style scoped>\n",
       "    .dataframe tbody tr th:only-of-type {\n",
       "        vertical-align: middle;\n",
       "    }\n",
       "\n",
       "    .dataframe tbody tr th {\n",
       "        vertical-align: top;\n",
       "    }\n",
       "\n",
       "    .dataframe thead th {\n",
       "        text-align: right;\n",
       "    }\n",
       "</style>\n",
       "<table border=\"1\" class=\"dataframe\">\n",
       "  <thead>\n",
       "    <tr style=\"text-align: right;\">\n",
       "      <th></th>\n",
       "      <th>team_name</th>\n",
       "      <th>goals_scored_at_home</th>\n",
       "    </tr>\n",
       "  </thead>\n",
       "  <tbody>\n",
       "    <tr>\n",
       "      <th>0</th>\n",
       "      <td>Real Madrid CF</td>\n",
       "      <td>505</td>\n",
       "    </tr>\n",
       "  </tbody>\n",
       "</table>\n",
       "</div>"
      ],
      "text/plain": [
       "        team_name  goals_scored_at_home\n",
       "0  Real Madrid CF                   505"
      ]
     },
     "execution_count": 3,
     "metadata": {},
     "output_type": "execute_result"
    }
   ],
   "source": [
    "sql = \"\"\"\n",
    "            SELECT t.team_long_name as team_name, sum(m.home_team_goal) as goals_scored_at_home\n",
    "            FROM Match as m\n",
    "            INNER JOIN Team as t\n",
    "                ON m.home_team_api_id = t.team_api_id\n",
    "            GROUP BY team_name\n",
    "            ORDER BY goals_scored_at_home DESC\n",
    "            LIMIT 1;\n",
    "    \"\"\"\n",
    "\n",
    "pd.read_sql(sql, engine)"
   ]
  },
  {
   "cell_type": "markdown",
   "metadata": {},
   "source": [
    "Real Madrid scored the most home goals."
   ]
  },
  {
   "cell_type": "markdown",
   "metadata": {},
   "source": [
    "### Question 2\n",
    "\n",
    "2. Did this team also score the most points when playing away?  "
   ]
  },
  {
   "cell_type": "code",
   "execution_count": 4,
   "metadata": {
    "ExecuteTime": {
     "end_time": "2018-11-01T15:03:12.908663Z",
     "start_time": "2018-11-01T15:03:12.653777Z"
    }
   },
   "outputs": [
    {
     "data": {
      "text/html": [
       "<div>\n",
       "<style scoped>\n",
       "    .dataframe tbody tr th:only-of-type {\n",
       "        vertical-align: middle;\n",
       "    }\n",
       "\n",
       "    .dataframe tbody tr th {\n",
       "        vertical-align: top;\n",
       "    }\n",
       "\n",
       "    .dataframe thead th {\n",
       "        text-align: right;\n",
       "    }\n",
       "</style>\n",
       "<table border=\"1\" class=\"dataframe\">\n",
       "  <thead>\n",
       "    <tr style=\"text-align: right;\">\n",
       "      <th></th>\n",
       "      <th>team_name</th>\n",
       "      <th>goals_scored_at_home</th>\n",
       "    </tr>\n",
       "  </thead>\n",
       "  <tbody>\n",
       "    <tr>\n",
       "      <th>0</th>\n",
       "      <td>FC Barcelona</td>\n",
       "      <td>354</td>\n",
       "    </tr>\n",
       "  </tbody>\n",
       "</table>\n",
       "</div>"
      ],
      "text/plain": [
       "      team_name  goals_scored_at_home\n",
       "0  FC Barcelona                   354"
      ]
     },
     "execution_count": 4,
     "metadata": {},
     "output_type": "execute_result"
    }
   ],
   "source": [
    "sql = \"\"\"\n",
    "            SELECT t.team_long_name as team_name, sum(m.away_team_goal) as goals_scored_at_home\n",
    "            FROM Match as m\n",
    "            INNER JOIN Team as t\n",
    "                ON m.away_team_api_id = t.team_api_id\n",
    "            GROUP BY team_name\n",
    "            ORDER BY goals_scored_at_home DESC\n",
    "            LIMIT 1;\n",
    "    \"\"\"\n",
    "\n",
    "pd.read_sql(sql, engine)"
   ]
  },
  {
   "cell_type": "markdown",
   "metadata": {},
   "source": [
    "No! The arch-rival of FC Barcelona socred the most away goals."
   ]
  },
  {
   "cell_type": "markdown",
   "metadata": {},
   "source": [
    "### Question 3\n",
    "3. How many matches resulted in a tie?  "
   ]
  },
  {
   "cell_type": "code",
   "execution_count": 5,
   "metadata": {
    "ExecuteTime": {
     "end_time": "2018-11-01T15:03:13.002033Z",
     "start_time": "2018-11-01T15:03:12.914036Z"
    }
   },
   "outputs": [
    {
     "data": {
      "text/html": [
       "<div>\n",
       "<style scoped>\n",
       "    .dataframe tbody tr th:only-of-type {\n",
       "        vertical-align: middle;\n",
       "    }\n",
       "\n",
       "    .dataframe tbody tr th {\n",
       "        vertical-align: top;\n",
       "    }\n",
       "\n",
       "    .dataframe thead th {\n",
       "        text-align: right;\n",
       "    }\n",
       "</style>\n",
       "<table border=\"1\" class=\"dataframe\">\n",
       "  <thead>\n",
       "    <tr style=\"text-align: right;\">\n",
       "      <th></th>\n",
       "      <th>num_matches_tied</th>\n",
       "    </tr>\n",
       "  </thead>\n",
       "  <tbody>\n",
       "    <tr>\n",
       "      <th>0</th>\n",
       "      <td>6596</td>\n",
       "    </tr>\n",
       "  </tbody>\n",
       "</table>\n",
       "</div>"
      ],
      "text/plain": [
       "   num_matches_tied\n",
       "0              6596"
      ]
     },
     "execution_count": 5,
     "metadata": {},
     "output_type": "execute_result"
    }
   ],
   "source": [
    "sql = \"\"\"\n",
    "            SELECT COUNT(1) as num_matches_tied\n",
    "            FROM Match as m\n",
    "            WHERE home_team_goal = away_team_goal;\n",
    "    \"\"\"\n",
    "\n",
    "pd.read_sql(sql, engine)"
   ]
  },
  {
   "cell_type": "markdown",
   "metadata": {},
   "source": [
    "6,596 matches ended in a tie."
   ]
  },
  {
   "cell_type": "markdown",
   "metadata": {},
   "source": [
    "### Question 4\n",
    "4. How many players have Smith for their last name? How many have 'smith' anywhere in their name?"
   ]
  },
  {
   "cell_type": "code",
   "execution_count": 6,
   "metadata": {
    "ExecuteTime": {
     "end_time": "2018-11-01T15:03:13.187532Z",
     "start_time": "2018-11-01T15:03:13.005431Z"
    }
   },
   "outputs": [
    {
     "data": {
      "text/html": [
       "<div>\n",
       "<style scoped>\n",
       "    .dataframe tbody tr th:only-of-type {\n",
       "        vertical-align: middle;\n",
       "    }\n",
       "\n",
       "    .dataframe tbody tr th {\n",
       "        vertical-align: top;\n",
       "    }\n",
       "\n",
       "    .dataframe thead th {\n",
       "        text-align: right;\n",
       "    }\n",
       "</style>\n",
       "<table border=\"1\" class=\"dataframe\">\n",
       "  <thead>\n",
       "    <tr style=\"text-align: right;\">\n",
       "      <th></th>\n",
       "      <th>num_players</th>\n",
       "    </tr>\n",
       "  </thead>\n",
       "  <tbody>\n",
       "    <tr>\n",
       "      <th>0</th>\n",
       "      <td>18</td>\n",
       "    </tr>\n",
       "  </tbody>\n",
       "</table>\n",
       "</div>"
      ],
      "text/plain": [
       "   num_players\n",
       "0           18"
      ]
     },
     "execution_count": 6,
     "metadata": {},
     "output_type": "execute_result"
    }
   ],
   "source": [
    "sql = \"\"\"\n",
    "            SELECT COUNT(1) as num_players\n",
    "            FROM Player\n",
    "            WHERE player_name LIKE '%smith';\n",
    "    \"\"\"\n",
    "\n",
    "pd.read_sql(sql, engine)"
   ]
  },
  {
   "cell_type": "code",
   "execution_count": 7,
   "metadata": {
    "ExecuteTime": {
     "end_time": "2018-11-01T15:03:13.207006Z",
     "start_time": "2018-11-01T15:03:13.190313Z"
    }
   },
   "outputs": [
    {
     "data": {
      "text/html": [
       "<div>\n",
       "<style scoped>\n",
       "    .dataframe tbody tr th:only-of-type {\n",
       "        vertical-align: middle;\n",
       "    }\n",
       "\n",
       "    .dataframe tbody tr th {\n",
       "        vertical-align: top;\n",
       "    }\n",
       "\n",
       "    .dataframe thead th {\n",
       "        text-align: right;\n",
       "    }\n",
       "</style>\n",
       "<table border=\"1\" class=\"dataframe\">\n",
       "  <thead>\n",
       "    <tr style=\"text-align: right;\">\n",
       "      <th></th>\n",
       "      <th>num_players</th>\n",
       "    </tr>\n",
       "  </thead>\n",
       "  <tbody>\n",
       "    <tr>\n",
       "      <th>0</th>\n",
       "      <td>18</td>\n",
       "    </tr>\n",
       "  </tbody>\n",
       "</table>\n",
       "</div>"
      ],
      "text/plain": [
       "   num_players\n",
       "0           18"
      ]
     },
     "execution_count": 7,
     "metadata": {},
     "output_type": "execute_result"
    }
   ],
   "source": [
    "sql = \"\"\"\n",
    "            SELECT COUNT(1) as num_players\n",
    "            FROM Player\n",
    "            WHERE player_name LIKE '%smith%';\n",
    "    \"\"\"\n",
    "\n",
    "pd.read_sql(sql, engine)"
   ]
  },
  {
   "cell_type": "markdown",
   "metadata": {},
   "source": [
    "There are 18 players with a last name of Smith. These are the only players have 'smith' anywhere in their name."
   ]
  },
  {
   "cell_type": "markdown",
   "metadata": {},
   "source": [
    "### Question 5\n",
    "5. What was the median tie score? Use the value determined in the previous question for the number of tie games. *Hint:* PostgreSQL does not have a median function. Instead, think about the steps required to calculate a median and use the [`WITH`](https://www.postgresql.org/docs/8.4/static/queries-with.html) command to store stepwise results as a table and then operate on these results. "
   ]
  },
  {
   "cell_type": "code",
   "execution_count": 11,
   "metadata": {
    "ExecuteTime": {
     "end_time": "2018-11-01T15:05:53.458392Z",
     "start_time": "2018-11-01T15:05:53.284405Z"
    }
   },
   "outputs": [
    {
     "data": {
      "text/html": [
       "<div>\n",
       "<style scoped>\n",
       "    .dataframe tbody tr th:only-of-type {\n",
       "        vertical-align: middle;\n",
       "    }\n",
       "\n",
       "    .dataframe tbody tr th {\n",
       "        vertical-align: top;\n",
       "    }\n",
       "\n",
       "    .dataframe thead th {\n",
       "        text-align: right;\n",
       "    }\n",
       "</style>\n",
       "<table border=\"1\" class=\"dataframe\">\n",
       "  <thead>\n",
       "    <tr style=\"text-align: right;\">\n",
       "      <th></th>\n",
       "      <th>median_goals_scored</th>\n",
       "    </tr>\n",
       "  </thead>\n",
       "  <tbody>\n",
       "    <tr>\n",
       "      <th>0</th>\n",
       "      <td>2</td>\n",
       "    </tr>\n",
       "  </tbody>\n",
       "</table>\n",
       "</div>"
      ],
      "text/plain": [
       "   median_goals_scored\n",
       "0                    2"
      ]
     },
     "execution_count": 11,
     "metadata": {},
     "output_type": "execute_result"
    }
   ],
   "source": [
    "sql_sort_total_goals = \"\"\"\n",
    "        WITH middle AS (\n",
    "            SELECT COUNT(1) / 2 as num_matches_tied\n",
    "            FROM Match as m\n",
    "            WHERE home_team_goal = away_team_goal\n",
    "            ),\n",
    "            \n",
    "        first_half as (\n",
    "        SELECT  home_team_goal \n",
    "            ,   away_team_goal\n",
    "            ,   home_team_goal + away_team_goal AS total_goals_scored\n",
    "        FROM Match\n",
    "        WHERE home_team_goal = away_team_goal\n",
    "        ORDER BY total_goals_scored\n",
    "        LIMIT (SELECT num_matches_tied FROM middle))\n",
    "        \n",
    "        SELECT  MAX(total_goals_scored) AS median_goals_scored\n",
    "        FROM    first_half\n",
    "    \"\"\"\n",
    "\n",
    "pd.read_sql(sql_sort_total_goals, engine)"
   ]
  },
  {
   "cell_type": "markdown",
   "metadata": {},
   "source": [
    "### Question 6\n",
    "\n",
    "6. What percentage of players prefer their left or right foot? *Hint:* Calculate either the right or left foot, whichever is easier based on how you setup the problem."
   ]
  },
  {
   "cell_type": "code",
   "execution_count": 27,
   "metadata": {
    "ExecuteTime": {
     "end_time": "2018-11-01T15:15:15.338360Z",
     "start_time": "2018-11-01T15:15:15.119589Z"
    }
   },
   "outputs": [
    {
     "data": {
      "text/html": [
       "<div>\n",
       "<style scoped>\n",
       "    .dataframe tbody tr th:only-of-type {\n",
       "        vertical-align: middle;\n",
       "    }\n",
       "\n",
       "    .dataframe tbody tr th {\n",
       "        vertical-align: top;\n",
       "    }\n",
       "\n",
       "    .dataframe thead th {\n",
       "        text-align: right;\n",
       "    }\n",
       "</style>\n",
       "<table border=\"1\" class=\"dataframe\">\n",
       "  <thead>\n",
       "    <tr style=\"text-align: right;\">\n",
       "      <th></th>\n",
       "      <th>right_foot_percent</th>\n",
       "      <th>left_foot_percent</th>\n",
       "    </tr>\n",
       "  </thead>\n",
       "  <tbody>\n",
       "    <tr>\n",
       "      <th>0</th>\n",
       "      <td>0.752313</td>\n",
       "      <td>0.247687</td>\n",
       "    </tr>\n",
       "  </tbody>\n",
       "</table>\n",
       "</div>"
      ],
      "text/plain": [
       "   right_foot_percent  left_foot_percent\n",
       "0            0.752313           0.247687"
      ]
     },
     "execution_count": 27,
     "metadata": {},
     "output_type": "execute_result"
    }
   ],
   "source": [
    "sql = \"\"\"\n",
    "        WITH total_players AS (\n",
    "            SELECT COUNT(1) AS cnt_players\n",
    "            FROM   Player_Attributes\n",
    "        )\n",
    "        \n",
    "        SELECT  CAST(COUNT(1) as FLOAT) / (SELECT cnt_players FROM total_players) AS right_foot_percent\n",
    "            ,   1 - (CAST(COUNT(1) as FLOAT) / (SELECT cnt_players FROM total_players)) AS left_foot_percent \n",
    "        FROM    Player_Attributes\n",
    "        WHERE   preferred_foot = 'right';\n",
    "\"\"\"\n",
    "\n",
    "pd.read_sql(sql, engine)"
   ]
  }
 ],
 "metadata": {
  "kernelspec": {
   "display_name": "Python 3",
   "language": "python",
   "name": "python3"
  },
  "language_info": {
   "codemirror_mode": {
    "name": "ipython",
    "version": 3
   },
   "file_extension": ".py",
   "mimetype": "text/x-python",
   "name": "python",
   "nbconvert_exporter": "python",
   "pygments_lexer": "ipython3",
   "version": "3.6.5"
  }
 },
 "nbformat": 4,
 "nbformat_minor": 2
}
